{
  "nbformat": 4,
  "nbformat_minor": 0,
  "metadata": {
    "colab": {
      "provenance": [],
      "authorship_tag": "ABX9TyP5zF0WWn9BhqaEjpLkADua",
      "include_colab_link": true
    },
    "kernelspec": {
      "name": "python3",
      "display_name": "Python 3"
    },
    "language_info": {
      "name": "python"
    }
  },
  "cells": [
    {
      "cell_type": "markdown",
      "metadata": {
        "id": "view-in-github",
        "colab_type": "text"
      },
      "source": [
        "<a href=\"https://colab.research.google.com/github/V-keerththanan/pandas_reacap/blob/main/PandasRecap.ipynb\" target=\"_parent\"><img src=\"https://colab.research.google.com/assets/colab-badge.svg\" alt=\"Open In Colab\"/></a>"
      ]
    },
    {
      "cell_type": "code",
      "execution_count": 2,
      "metadata": {
        "id": "sGsL-A5AdVcj"
      },
      "outputs": [],
      "source": [
        "import pandas as pd"
      ]
    },
    {
      "cell_type": "code",
      "source": [
        "pd.__version__"
      ],
      "metadata": {
        "id": "6lP-GtABeNad",
        "outputId": "4c0b8e8b-c930-4011-e1d9-a03f897ae666",
        "colab": {
          "base_uri": "https://localhost:8080/",
          "height": 36
        }
      },
      "execution_count": 3,
      "outputs": [
        {
          "output_type": "execute_result",
          "data": {
            "text/plain": [
              "'1.5.3'"
            ],
            "application/vnd.google.colaboratory.intrinsic+json": {
              "type": "string"
            }
          },
          "metadata": {},
          "execution_count": 3
        }
      ]
    },
    {
      "cell_type": "code",
      "source": [
        "name=['keerthan','birunthaban','jathusan','nilojan']\n",
        "studentName=pd.Series(name)"
      ],
      "metadata": {
        "id": "5Esjue4ohqvX"
      },
      "execution_count": 7,
      "outputs": []
    },
    {
      "cell_type": "code",
      "source": [
        "print(studenName)"
      ],
      "metadata": {
        "id": "b7kDbHEOjxsT",
        "outputId": "6a0dedfa-6dce-495e-bc1f-dfca6bffbedb",
        "colab": {
          "base_uri": "https://localhost:8080/"
        }
      },
      "execution_count": 9,
      "outputs": [
        {
          "output_type": "stream",
          "name": "stdout",
          "text": [
            "0       keerthan\n",
            "1    birunthaban\n",
            "2       jathusan\n",
            "3        nilojan\n",
            "dtype: object\n"
          ]
        }
      ]
    },
    {
      "cell_type": "code",
      "source": [
        "print(type(studentName))"
      ],
      "metadata": {
        "id": "J9x8ak1ij0-Y",
        "outputId": "4eed9bf7-0fa8-418f-db2d-14d23ed18af7",
        "colab": {
          "base_uri": "https://localhost:8080/"
        }
      },
      "execution_count": 10,
      "outputs": [
        {
          "output_type": "stream",
          "name": "stdout",
          "text": [
            "<class 'pandas.core.series.Series'>\n"
          ]
        }
      ]
    },
    {
      "cell_type": "code",
      "source": [
        "numbers=pd.Series([1,2,3,4])\n"
      ],
      "metadata": {
        "id": "C44JaCzpk12o"
      },
      "execution_count": 14,
      "outputs": []
    },
    {
      "cell_type": "code",
      "source": [
        "def changeType(val):\n",
        "  return str(val)"
      ],
      "metadata": {
        "id": "Bs2xt6y-oPz5"
      },
      "execution_count": 15,
      "outputs": []
    },
    {
      "cell_type": "code",
      "source": [
        "str_numbers=numbers.apply(changeType)"
      ],
      "metadata": {
        "id": "cQZHvQm_oWQR"
      },
      "execution_count": 16,
      "outputs": []
    },
    {
      "cell_type": "code",
      "source": [
        "studenName.add(str_numbers)"
      ],
      "metadata": {
        "id": "Wligt8wNod8V",
        "outputId": "933aca73-3309-4144-e4ab-90e9a71efbb7",
        "colab": {
          "base_uri": "https://localhost:8080/"
        }
      },
      "execution_count": 17,
      "outputs": [
        {
          "output_type": "execute_result",
          "data": {
            "text/plain": [
              "0       keerthan1\n",
              "1    birunthaban2\n",
              "2       jathusan3\n",
              "3        nilojan4\n",
              "dtype: object"
            ]
          },
          "metadata": {},
          "execution_count": 17
        }
      ]
    },
    {
      "cell_type": "code",
      "source": [
        "pd.Series(name,index=[40,10,60,100])"
      ],
      "metadata": {
        "id": "Vr7kzoREom2C",
        "outputId": "5019357c-2729-44b6-821a-e0370db22492",
        "colab": {
          "base_uri": "https://localhost:8080/"
        }
      },
      "execution_count": 23,
      "outputs": [
        {
          "output_type": "execute_result",
          "data": {
            "text/plain": [
              "40        keerthan\n",
              "10     birunthaban\n",
              "60        jathusan\n",
              "100        nilojan\n",
              "dtype: object"
            ]
          },
          "metadata": {},
          "execution_count": 23
        }
      ]
    },
    {
      "cell_type": "code",
      "source": [],
      "metadata": {
        "id": "SFW2sWpyq3ZU"
      },
      "execution_count": null,
      "outputs": []
    }
  ]
}