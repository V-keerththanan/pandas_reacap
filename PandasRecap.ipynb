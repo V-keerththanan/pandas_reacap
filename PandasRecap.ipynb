{
  "nbformat": 4,
  "nbformat_minor": 0,
  "metadata": {
    "colab": {
      "provenance": [],
      "authorship_tag": "ABX9TyMJDD5R+tHFKRyr8izwIF8R",
      "include_colab_link": true
    },
    "kernelspec": {
      "name": "python3",
      "display_name": "Python 3"
    },
    "language_info": {
      "name": "python"
    }
  },
  "cells": [
    {
      "cell_type": "markdown",
      "metadata": {
        "id": "view-in-github",
        "colab_type": "text"
      },
      "source": [
        "<a href=\"https://colab.research.google.com/github/V-keerththanan/pandas_recap/blob/main/PandasRecap.ipynb\" target=\"_parent\"><img src=\"https://colab.research.google.com/assets/colab-badge.svg\" alt=\"Open In Colab\"/></a>"
      ]
    },
    {
      "cell_type": "code",
      "execution_count": 1,
      "metadata": {
        "id": "sGsL-A5AdVcj"
      },
      "outputs": [],
      "source": [
        "import pandas as pd"
      ]
    },
    {
      "cell_type": "code",
      "source": [
        "pd.__version__"
      ],
      "metadata": {
        "id": "6lP-GtABeNad",
        "colab": {
          "base_uri": "https://localhost:8080/",
          "height": 36
        },
        "outputId": "4c0b8e8b-c930-4011-e1d9-a03f897ae666"
      },
      "execution_count": null,
      "outputs": [
        {
          "output_type": "execute_result",
          "data": {
            "text/plain": [
              "'1.5.3'"
            ],
            "application/vnd.google.colaboratory.intrinsic+json": {
              "type": "string"
            }
          },
          "metadata": {},
          "execution_count": 3
        }
      ]
    },
    {
      "cell_type": "code",
      "source": [
        "name=['keerthan','birunthaban','jathusan','nilojan']\n",
        "studentName=pd.Series(name)"
      ],
      "metadata": {
        "id": "5Esjue4ohqvX"
      },
      "execution_count": null,
      "outputs": []
    },
    {
      "cell_type": "code",
      "source": [
        "print(studenName)"
      ],
      "metadata": {
        "colab": {
          "base_uri": "https://localhost:8080/"
        },
        "id": "b7kDbHEOjxsT",
        "outputId": "6a0dedfa-6dce-495e-bc1f-dfca6bffbedb"
      },
      "execution_count": null,
      "outputs": [
        {
          "output_type": "stream",
          "name": "stdout",
          "text": [
            "0       keerthan\n",
            "1    birunthaban\n",
            "2       jathusan\n",
            "3        nilojan\n",
            "dtype: object\n"
          ]
        }
      ]
    },
    {
      "cell_type": "code",
      "source": [
        "print(type(studentName))"
      ],
      "metadata": {
        "colab": {
          "base_uri": "https://localhost:8080/"
        },
        "id": "J9x8ak1ij0-Y",
        "outputId": "4eed9bf7-0fa8-418f-db2d-14d23ed18af7"
      },
      "execution_count": null,
      "outputs": [
        {
          "output_type": "stream",
          "name": "stdout",
          "text": [
            "<class 'pandas.core.series.Series'>\n"
          ]
        }
      ]
    },
    {
      "cell_type": "code",
      "source": [
        "numbers=pd.Series([1,2,3,4])\n"
      ],
      "metadata": {
        "id": "C44JaCzpk12o"
      },
      "execution_count": null,
      "outputs": []
    },
    {
      "cell_type": "code",
      "source": [
        "def changeType(val):\n",
        "  return str(val)"
      ],
      "metadata": {
        "id": "Bs2xt6y-oPz5"
      },
      "execution_count": null,
      "outputs": []
    },
    {
      "cell_type": "code",
      "source": [
        "str_numbers=numbers.apply(changeType)"
      ],
      "metadata": {
        "id": "cQZHvQm_oWQR"
      },
      "execution_count": null,
      "outputs": []
    },
    {
      "cell_type": "code",
      "source": [
        "studenName.add(str_numbers)"
      ],
      "metadata": {
        "colab": {
          "base_uri": "https://localhost:8080/"
        },
        "id": "Wligt8wNod8V",
        "outputId": "933aca73-3309-4144-e4ab-90e9a71efbb7"
      },
      "execution_count": null,
      "outputs": [
        {
          "output_type": "execute_result",
          "data": {
            "text/plain": [
              "0       keerthan1\n",
              "1    birunthaban2\n",
              "2       jathusan3\n",
              "3        nilojan4\n",
              "dtype: object"
            ]
          },
          "metadata": {},
          "execution_count": 17
        }
      ]
    },
    {
      "cell_type": "code",
      "source": [
        "pd.Series(name,index=[40,10,60,100])"
      ],
      "metadata": {
        "colab": {
          "base_uri": "https://localhost:8080/"
        },
        "id": "Vr7kzoREom2C",
        "outputId": "5019357c-2729-44b6-821a-e0370db22492"
      },
      "execution_count": null,
      "outputs": [
        {
          "output_type": "execute_result",
          "data": {
            "text/plain": [
              "40        keerthan\n",
              "10     birunthaban\n",
              "60        jathusan\n",
              "100        nilojan\n",
              "dtype: object"
            ]
          },
          "metadata": {},
          "execution_count": 23
        }
      ]
    },
    {
      "cell_type": "code",
      "source": [
        "data = {\n",
        "  \"calories\": [420, 380, 390],\n",
        "  \"duration\": [50, 40, 45]\n",
        "}\n",
        "\n",
        "\n",
        "df = pd.DataFrame(data)\n",
        "\n",
        "print(df)"
      ],
      "metadata": {
        "colab": {
          "base_uri": "https://localhost:8080/"
        },
        "id": "SFW2sWpyq3ZU",
        "outputId": "0c11ec36-3a96-4775-d053-42a6c2a49d20"
      },
      "execution_count": null,
      "outputs": [
        {
          "output_type": "stream",
          "name": "stdout",
          "text": [
            "   calories  duration\n",
            "0       420        50\n",
            "1       380        40\n",
            "2       390        45\n"
          ]
        }
      ]
    },
    {
      "cell_type": "code",
      "source": [
        "df['calories'][0]"
      ],
      "metadata": {
        "id": "FJcb8TxXsS2c",
        "outputId": "dbeb48d2-32a8-4806-983d-091d66fa8f8e",
        "colab": {
          "base_uri": "https://localhost:8080/"
        }
      },
      "execution_count": null,
      "outputs": [
        {
          "output_type": "execute_result",
          "data": {
            "text/plain": [
              "420"
            ]
          },
          "metadata": {},
          "execution_count": 27
        }
      ]
    },
    {
      "cell_type": "code",
      "source": [
        "df.iloc[0:3,[0,1]]"
      ],
      "metadata": {
        "id": "xptIw8zssXQH",
        "outputId": "e3a6adee-a532-401a-87ff-4eecfc47810d",
        "colab": {
          "base_uri": "https://localhost:8080/",
          "height": 143
        }
      },
      "execution_count": null,
      "outputs": [
        {
          "output_type": "execute_result",
          "data": {
            "text/plain": [
              "   calories  duration\n",
              "0       420        50\n",
              "1       380        40\n",
              "2       390        45"
            ],
            "text/html": [
              "\n",
              "\n",
              "  <div id=\"df-a314230f-ad85-49c0-875d-66e7b70096b7\">\n",
              "    <div class=\"colab-df-container\">\n",
              "      <div>\n",
              "<style scoped>\n",
              "    .dataframe tbody tr th:only-of-type {\n",
              "        vertical-align: middle;\n",
              "    }\n",
              "\n",
              "    .dataframe tbody tr th {\n",
              "        vertical-align: top;\n",
              "    }\n",
              "\n",
              "    .dataframe thead th {\n",
              "        text-align: right;\n",
              "    }\n",
              "</style>\n",
              "<table border=\"1\" class=\"dataframe\">\n",
              "  <thead>\n",
              "    <tr style=\"text-align: right;\">\n",
              "      <th></th>\n",
              "      <th>calories</th>\n",
              "      <th>duration</th>\n",
              "    </tr>\n",
              "  </thead>\n",
              "  <tbody>\n",
              "    <tr>\n",
              "      <th>0</th>\n",
              "      <td>420</td>\n",
              "      <td>50</td>\n",
              "    </tr>\n",
              "    <tr>\n",
              "      <th>1</th>\n",
              "      <td>380</td>\n",
              "      <td>40</td>\n",
              "    </tr>\n",
              "    <tr>\n",
              "      <th>2</th>\n",
              "      <td>390</td>\n",
              "      <td>45</td>\n",
              "    </tr>\n",
              "  </tbody>\n",
              "</table>\n",
              "</div>\n",
              "      <button class=\"colab-df-convert\" onclick=\"convertToInteractive('df-a314230f-ad85-49c0-875d-66e7b70096b7')\"\n",
              "              title=\"Convert this dataframe to an interactive table.\"\n",
              "              style=\"display:none;\">\n",
              "\n",
              "  <svg xmlns=\"http://www.w3.org/2000/svg\" height=\"24px\"viewBox=\"0 0 24 24\"\n",
              "       width=\"24px\">\n",
              "    <path d=\"M0 0h24v24H0V0z\" fill=\"none\"/>\n",
              "    <path d=\"M18.56 5.44l.94 2.06.94-2.06 2.06-.94-2.06-.94-.94-2.06-.94 2.06-2.06.94zm-11 1L8.5 8.5l.94-2.06 2.06-.94-2.06-.94L8.5 2.5l-.94 2.06-2.06.94zm10 10l.94 2.06.94-2.06 2.06-.94-2.06-.94-.94-2.06-.94 2.06-2.06.94z\"/><path d=\"M17.41 7.96l-1.37-1.37c-.4-.4-.92-.59-1.43-.59-.52 0-1.04.2-1.43.59L10.3 9.45l-7.72 7.72c-.78.78-.78 2.05 0 2.83L4 21.41c.39.39.9.59 1.41.59.51 0 1.02-.2 1.41-.59l7.78-7.78 2.81-2.81c.8-.78.8-2.07 0-2.86zM5.41 20L4 18.59l7.72-7.72 1.47 1.35L5.41 20z\"/>\n",
              "  </svg>\n",
              "      </button>\n",
              "\n",
              "\n",
              "\n",
              "    <div id=\"df-ef8f8338-4c30-4eb6-9383-3f6908030879\">\n",
              "      <button class=\"colab-df-quickchart\" onclick=\"quickchart('df-ef8f8338-4c30-4eb6-9383-3f6908030879')\"\n",
              "              title=\"Suggest charts.\"\n",
              "              style=\"display:none;\">\n",
              "\n",
              "<svg xmlns=\"http://www.w3.org/2000/svg\" height=\"24px\"viewBox=\"0 0 24 24\"\n",
              "     width=\"24px\">\n",
              "    <g>\n",
              "        <path d=\"M19 3H5c-1.1 0-2 .9-2 2v14c0 1.1.9 2 2 2h14c1.1 0 2-.9 2-2V5c0-1.1-.9-2-2-2zM9 17H7v-7h2v7zm4 0h-2V7h2v10zm4 0h-2v-4h2v4z\"/>\n",
              "    </g>\n",
              "</svg>\n",
              "      </button>\n",
              "    </div>\n",
              "\n",
              "<style>\n",
              "  .colab-df-quickchart {\n",
              "    background-color: #E8F0FE;\n",
              "    border: none;\n",
              "    border-radius: 50%;\n",
              "    cursor: pointer;\n",
              "    display: none;\n",
              "    fill: #1967D2;\n",
              "    height: 32px;\n",
              "    padding: 0 0 0 0;\n",
              "    width: 32px;\n",
              "  }\n",
              "\n",
              "  .colab-df-quickchart:hover {\n",
              "    background-color: #E2EBFA;\n",
              "    box-shadow: 0px 1px 2px rgba(60, 64, 67, 0.3), 0px 1px 3px 1px rgba(60, 64, 67, 0.15);\n",
              "    fill: #174EA6;\n",
              "  }\n",
              "\n",
              "  [theme=dark] .colab-df-quickchart {\n",
              "    background-color: #3B4455;\n",
              "    fill: #D2E3FC;\n",
              "  }\n",
              "\n",
              "  [theme=dark] .colab-df-quickchart:hover {\n",
              "    background-color: #434B5C;\n",
              "    box-shadow: 0px 1px 3px 1px rgba(0, 0, 0, 0.15);\n",
              "    filter: drop-shadow(0px 1px 2px rgba(0, 0, 0, 0.3));\n",
              "    fill: #FFFFFF;\n",
              "  }\n",
              "</style>\n",
              "\n",
              "    <script>\n",
              "      async function quickchart(key) {\n",
              "        const containerElement = document.querySelector('#' + key);\n",
              "        const charts = await google.colab.kernel.invokeFunction(\n",
              "            'suggestCharts', [key], {});\n",
              "      }\n",
              "    </script>\n",
              "\n",
              "      <script>\n",
              "\n",
              "function displayQuickchartButton(domScope) {\n",
              "  let quickchartButtonEl =\n",
              "    domScope.querySelector('#df-ef8f8338-4c30-4eb6-9383-3f6908030879 button.colab-df-quickchart');\n",
              "  quickchartButtonEl.style.display =\n",
              "    google.colab.kernel.accessAllowed ? 'block' : 'none';\n",
              "}\n",
              "\n",
              "        displayQuickchartButton(document);\n",
              "      </script>\n",
              "      <style>\n",
              "    .colab-df-container {\n",
              "      display:flex;\n",
              "      flex-wrap:wrap;\n",
              "      gap: 12px;\n",
              "    }\n",
              "\n",
              "    .colab-df-convert {\n",
              "      background-color: #E8F0FE;\n",
              "      border: none;\n",
              "      border-radius: 50%;\n",
              "      cursor: pointer;\n",
              "      display: none;\n",
              "      fill: #1967D2;\n",
              "      height: 32px;\n",
              "      padding: 0 0 0 0;\n",
              "      width: 32px;\n",
              "    }\n",
              "\n",
              "    .colab-df-convert:hover {\n",
              "      background-color: #E2EBFA;\n",
              "      box-shadow: 0px 1px 2px rgba(60, 64, 67, 0.3), 0px 1px 3px 1px rgba(60, 64, 67, 0.15);\n",
              "      fill: #174EA6;\n",
              "    }\n",
              "\n",
              "    [theme=dark] .colab-df-convert {\n",
              "      background-color: #3B4455;\n",
              "      fill: #D2E3FC;\n",
              "    }\n",
              "\n",
              "    [theme=dark] .colab-df-convert:hover {\n",
              "      background-color: #434B5C;\n",
              "      box-shadow: 0px 1px 3px 1px rgba(0, 0, 0, 0.15);\n",
              "      filter: drop-shadow(0px 1px 2px rgba(0, 0, 0, 0.3));\n",
              "      fill: #FFFFFF;\n",
              "    }\n",
              "  </style>\n",
              "\n",
              "      <script>\n",
              "        const buttonEl =\n",
              "          document.querySelector('#df-a314230f-ad85-49c0-875d-66e7b70096b7 button.colab-df-convert');\n",
              "        buttonEl.style.display =\n",
              "          google.colab.kernel.accessAllowed ? 'block' : 'none';\n",
              "\n",
              "        async function convertToInteractive(key) {\n",
              "          const element = document.querySelector('#df-a314230f-ad85-49c0-875d-66e7b70096b7');\n",
              "          const dataTable =\n",
              "            await google.colab.kernel.invokeFunction('convertToInteractive',\n",
              "                                                     [key], {});\n",
              "          if (!dataTable) return;\n",
              "\n",
              "          const docLinkHtml = 'Like what you see? Visit the ' +\n",
              "            '<a target=\"_blank\" href=https://colab.research.google.com/notebooks/data_table.ipynb>data table notebook</a>'\n",
              "            + ' to learn more about interactive tables.';\n",
              "          element.innerHTML = '';\n",
              "          dataTable['output_type'] = 'display_data';\n",
              "          await google.colab.output.renderOutput(dataTable, element);\n",
              "          const docLink = document.createElement('div');\n",
              "          docLink.innerHTML = docLinkHtml;\n",
              "          element.appendChild(docLink);\n",
              "        }\n",
              "      </script>\n",
              "    </div>\n",
              "  </div>\n"
            ]
          },
          "metadata": {},
          "execution_count": 40
        }
      ]
    },
    {
      "cell_type": "code",
      "source": [
        "url=\"https://raw.githubusercontent.com/V-keerththanan/pandas_recap/main/Uncleaned_DS_jobs.csv\""
      ],
      "metadata": {
        "id": "Qvzmc-41vrpA"
      },
      "execution_count": 120,
      "outputs": []
    },
    {
      "cell_type": "code",
      "source": [
        "df=pd.read_csv(url)"
      ],
      "metadata": {
        "id": "69nAtAtFT2pt"
      },
      "execution_count": 121,
      "outputs": []
    },
    {
      "cell_type": "code",
      "source": [
        "df.head()"
      ],
      "metadata": {
        "id": "R_DclkCJUCF6",
        "outputId": "44d78d41-3518-44cb-a6d4-7b9edb8345c5",
        "colab": {
          "base_uri": "https://localhost:8080/",
          "height": 510
        }
      },
      "execution_count": 122,
      "outputs": [
        {
          "output_type": "execute_result",
          "data": {
            "text/plain": [
              "   index          Job Title               Salary Estimate  \\\n",
              "0      0  Sr Data Scientist  $137K-$171K (Glassdoor est.)   \n",
              "1      1     Data Scientist  $137K-$171K (Glassdoor est.)   \n",
              "2      2     Data Scientist  $137K-$171K (Glassdoor est.)   \n",
              "3      3     Data Scientist  $137K-$171K (Glassdoor est.)   \n",
              "4      4     Data Scientist  $137K-$171K (Glassdoor est.)   \n",
              "\n",
              "                                     Job Description  Rating  \\\n",
              "0  Description\\n\\nThe Senior Data Scientist is re...     3.1   \n",
              "1  Secure our Nation, Ignite your Future\\n\\nJoin ...     4.2   \n",
              "2  Overview\\n\\n\\nAnalysis Group is one of the lar...     3.8   \n",
              "3  JOB DESCRIPTION:\\n\\nDo you have a passion for ...     3.5   \n",
              "4  Data Scientist\\nAffinity Solutions / Marketing...     2.9   \n",
              "\n",
              "              Company Name       Location            Headquarters  \\\n",
              "0         Healthfirst\\n3.1   New York, NY            New York, NY   \n",
              "1             ManTech\\n4.2  Chantilly, VA             Herndon, VA   \n",
              "2      Analysis Group\\n3.8     Boston, MA              Boston, MA   \n",
              "3             INFICON\\n3.5     Newton, MA  Bad Ragaz, Switzerland   \n",
              "4  Affinity Solutions\\n2.9   New York, NY            New York, NY   \n",
              "\n",
              "                      Size  Founded        Type of ownership  \\\n",
              "0   1001 to 5000 employees     1993   Nonprofit Organization   \n",
              "1  5001 to 10000 employees     1968         Company - Public   \n",
              "2   1001 to 5000 employees     1981  Private Practice / Firm   \n",
              "3    501 to 1000 employees     2000         Company - Public   \n",
              "4      51 to 200 employees     1998        Company - Private   \n",
              "\n",
              "                                Industry             Sector  \\\n",
              "0                     Insurance Carriers          Insurance   \n",
              "1                 Research & Development  Business Services   \n",
              "2                             Consulting  Business Services   \n",
              "3  Electrical & Electronic Manufacturing      Manufacturing   \n",
              "4                Advertising & Marketing  Business Services   \n",
              "\n",
              "                      Revenue  \\\n",
              "0    Unknown / Non-Applicable   \n",
              "1      $1 to $2 billion (USD)   \n",
              "2  $100 to $500 million (USD)   \n",
              "3  $100 to $500 million (USD)   \n",
              "4    Unknown / Non-Applicable   \n",
              "\n",
              "                                         Competitors  \n",
              "0            EmblemHealth, UnitedHealth Group, Aetna  \n",
              "1                                                 -1  \n",
              "2                                                 -1  \n",
              "3  MKS Instruments, Pfeiffer Vacuum, Agilent Tech...  \n",
              "4               Commerce Signals, Cardlytics, Yodlee  "
            ],
            "text/html": [
              "\n",
              "\n",
              "  <div id=\"df-d6f53971-5ed4-4626-b23f-ee914d40c122\">\n",
              "    <div class=\"colab-df-container\">\n",
              "      <div>\n",
              "<style scoped>\n",
              "    .dataframe tbody tr th:only-of-type {\n",
              "        vertical-align: middle;\n",
              "    }\n",
              "\n",
              "    .dataframe tbody tr th {\n",
              "        vertical-align: top;\n",
              "    }\n",
              "\n",
              "    .dataframe thead th {\n",
              "        text-align: right;\n",
              "    }\n",
              "</style>\n",
              "<table border=\"1\" class=\"dataframe\">\n",
              "  <thead>\n",
              "    <tr style=\"text-align: right;\">\n",
              "      <th></th>\n",
              "      <th>index</th>\n",
              "      <th>Job Title</th>\n",
              "      <th>Salary Estimate</th>\n",
              "      <th>Job Description</th>\n",
              "      <th>Rating</th>\n",
              "      <th>Company Name</th>\n",
              "      <th>Location</th>\n",
              "      <th>Headquarters</th>\n",
              "      <th>Size</th>\n",
              "      <th>Founded</th>\n",
              "      <th>Type of ownership</th>\n",
              "      <th>Industry</th>\n",
              "      <th>Sector</th>\n",
              "      <th>Revenue</th>\n",
              "      <th>Competitors</th>\n",
              "    </tr>\n",
              "  </thead>\n",
              "  <tbody>\n",
              "    <tr>\n",
              "      <th>0</th>\n",
              "      <td>0</td>\n",
              "      <td>Sr Data Scientist</td>\n",
              "      <td>$137K-$171K (Glassdoor est.)</td>\n",
              "      <td>Description\\n\\nThe Senior Data Scientist is re...</td>\n",
              "      <td>3.1</td>\n",
              "      <td>Healthfirst\\n3.1</td>\n",
              "      <td>New York, NY</td>\n",
              "      <td>New York, NY</td>\n",
              "      <td>1001 to 5000 employees</td>\n",
              "      <td>1993</td>\n",
              "      <td>Nonprofit Organization</td>\n",
              "      <td>Insurance Carriers</td>\n",
              "      <td>Insurance</td>\n",
              "      <td>Unknown / Non-Applicable</td>\n",
              "      <td>EmblemHealth, UnitedHealth Group, Aetna</td>\n",
              "    </tr>\n",
              "    <tr>\n",
              "      <th>1</th>\n",
              "      <td>1</td>\n",
              "      <td>Data Scientist</td>\n",
              "      <td>$137K-$171K (Glassdoor est.)</td>\n",
              "      <td>Secure our Nation, Ignite your Future\\n\\nJoin ...</td>\n",
              "      <td>4.2</td>\n",
              "      <td>ManTech\\n4.2</td>\n",
              "      <td>Chantilly, VA</td>\n",
              "      <td>Herndon, VA</td>\n",
              "      <td>5001 to 10000 employees</td>\n",
              "      <td>1968</td>\n",
              "      <td>Company - Public</td>\n",
              "      <td>Research &amp; Development</td>\n",
              "      <td>Business Services</td>\n",
              "      <td>$1 to $2 billion (USD)</td>\n",
              "      <td>-1</td>\n",
              "    </tr>\n",
              "    <tr>\n",
              "      <th>2</th>\n",
              "      <td>2</td>\n",
              "      <td>Data Scientist</td>\n",
              "      <td>$137K-$171K (Glassdoor est.)</td>\n",
              "      <td>Overview\\n\\n\\nAnalysis Group is one of the lar...</td>\n",
              "      <td>3.8</td>\n",
              "      <td>Analysis Group\\n3.8</td>\n",
              "      <td>Boston, MA</td>\n",
              "      <td>Boston, MA</td>\n",
              "      <td>1001 to 5000 employees</td>\n",
              "      <td>1981</td>\n",
              "      <td>Private Practice / Firm</td>\n",
              "      <td>Consulting</td>\n",
              "      <td>Business Services</td>\n",
              "      <td>$100 to $500 million (USD)</td>\n",
              "      <td>-1</td>\n",
              "    </tr>\n",
              "    <tr>\n",
              "      <th>3</th>\n",
              "      <td>3</td>\n",
              "      <td>Data Scientist</td>\n",
              "      <td>$137K-$171K (Glassdoor est.)</td>\n",
              "      <td>JOB DESCRIPTION:\\n\\nDo you have a passion for ...</td>\n",
              "      <td>3.5</td>\n",
              "      <td>INFICON\\n3.5</td>\n",
              "      <td>Newton, MA</td>\n",
              "      <td>Bad Ragaz, Switzerland</td>\n",
              "      <td>501 to 1000 employees</td>\n",
              "      <td>2000</td>\n",
              "      <td>Company - Public</td>\n",
              "      <td>Electrical &amp; Electronic Manufacturing</td>\n",
              "      <td>Manufacturing</td>\n",
              "      <td>$100 to $500 million (USD)</td>\n",
              "      <td>MKS Instruments, Pfeiffer Vacuum, Agilent Tech...</td>\n",
              "    </tr>\n",
              "    <tr>\n",
              "      <th>4</th>\n",
              "      <td>4</td>\n",
              "      <td>Data Scientist</td>\n",
              "      <td>$137K-$171K (Glassdoor est.)</td>\n",
              "      <td>Data Scientist\\nAffinity Solutions / Marketing...</td>\n",
              "      <td>2.9</td>\n",
              "      <td>Affinity Solutions\\n2.9</td>\n",
              "      <td>New York, NY</td>\n",
              "      <td>New York, NY</td>\n",
              "      <td>51 to 200 employees</td>\n",
              "      <td>1998</td>\n",
              "      <td>Company - Private</td>\n",
              "      <td>Advertising &amp; Marketing</td>\n",
              "      <td>Business Services</td>\n",
              "      <td>Unknown / Non-Applicable</td>\n",
              "      <td>Commerce Signals, Cardlytics, Yodlee</td>\n",
              "    </tr>\n",
              "  </tbody>\n",
              "</table>\n",
              "</div>\n",
              "      <button class=\"colab-df-convert\" onclick=\"convertToInteractive('df-d6f53971-5ed4-4626-b23f-ee914d40c122')\"\n",
              "              title=\"Convert this dataframe to an interactive table.\"\n",
              "              style=\"display:none;\">\n",
              "\n",
              "  <svg xmlns=\"http://www.w3.org/2000/svg\" height=\"24px\"viewBox=\"0 0 24 24\"\n",
              "       width=\"24px\">\n",
              "    <path d=\"M0 0h24v24H0V0z\" fill=\"none\"/>\n",
              "    <path d=\"M18.56 5.44l.94 2.06.94-2.06 2.06-.94-2.06-.94-.94-2.06-.94 2.06-2.06.94zm-11 1L8.5 8.5l.94-2.06 2.06-.94-2.06-.94L8.5 2.5l-.94 2.06-2.06.94zm10 10l.94 2.06.94-2.06 2.06-.94-2.06-.94-.94-2.06-.94 2.06-2.06.94z\"/><path d=\"M17.41 7.96l-1.37-1.37c-.4-.4-.92-.59-1.43-.59-.52 0-1.04.2-1.43.59L10.3 9.45l-7.72 7.72c-.78.78-.78 2.05 0 2.83L4 21.41c.39.39.9.59 1.41.59.51 0 1.02-.2 1.41-.59l7.78-7.78 2.81-2.81c.8-.78.8-2.07 0-2.86zM5.41 20L4 18.59l7.72-7.72 1.47 1.35L5.41 20z\"/>\n",
              "  </svg>\n",
              "      </button>\n",
              "\n",
              "\n",
              "\n",
              "    <div id=\"df-1e34da4d-6590-480a-89a1-59989fd55cd7\">\n",
              "      <button class=\"colab-df-quickchart\" onclick=\"quickchart('df-1e34da4d-6590-480a-89a1-59989fd55cd7')\"\n",
              "              title=\"Suggest charts.\"\n",
              "              style=\"display:none;\">\n",
              "\n",
              "<svg xmlns=\"http://www.w3.org/2000/svg\" height=\"24px\"viewBox=\"0 0 24 24\"\n",
              "     width=\"24px\">\n",
              "    <g>\n",
              "        <path d=\"M19 3H5c-1.1 0-2 .9-2 2v14c0 1.1.9 2 2 2h14c1.1 0 2-.9 2-2V5c0-1.1-.9-2-2-2zM9 17H7v-7h2v7zm4 0h-2V7h2v10zm4 0h-2v-4h2v4z\"/>\n",
              "    </g>\n",
              "</svg>\n",
              "      </button>\n",
              "    </div>\n",
              "\n",
              "<style>\n",
              "  .colab-df-quickchart {\n",
              "    background-color: #E8F0FE;\n",
              "    border: none;\n",
              "    border-radius: 50%;\n",
              "    cursor: pointer;\n",
              "    display: none;\n",
              "    fill: #1967D2;\n",
              "    height: 32px;\n",
              "    padding: 0 0 0 0;\n",
              "    width: 32px;\n",
              "  }\n",
              "\n",
              "  .colab-df-quickchart:hover {\n",
              "    background-color: #E2EBFA;\n",
              "    box-shadow: 0px 1px 2px rgba(60, 64, 67, 0.3), 0px 1px 3px 1px rgba(60, 64, 67, 0.15);\n",
              "    fill: #174EA6;\n",
              "  }\n",
              "\n",
              "  [theme=dark] .colab-df-quickchart {\n",
              "    background-color: #3B4455;\n",
              "    fill: #D2E3FC;\n",
              "  }\n",
              "\n",
              "  [theme=dark] .colab-df-quickchart:hover {\n",
              "    background-color: #434B5C;\n",
              "    box-shadow: 0px 1px 3px 1px rgba(0, 0, 0, 0.15);\n",
              "    filter: drop-shadow(0px 1px 2px rgba(0, 0, 0, 0.3));\n",
              "    fill: #FFFFFF;\n",
              "  }\n",
              "</style>\n",
              "\n",
              "    <script>\n",
              "      async function quickchart(key) {\n",
              "        const containerElement = document.querySelector('#' + key);\n",
              "        const charts = await google.colab.kernel.invokeFunction(\n",
              "            'suggestCharts', [key], {});\n",
              "      }\n",
              "    </script>\n",
              "\n",
              "      <script>\n",
              "\n",
              "function displayQuickchartButton(domScope) {\n",
              "  let quickchartButtonEl =\n",
              "    domScope.querySelector('#df-1e34da4d-6590-480a-89a1-59989fd55cd7 button.colab-df-quickchart');\n",
              "  quickchartButtonEl.style.display =\n",
              "    google.colab.kernel.accessAllowed ? 'block' : 'none';\n",
              "}\n",
              "\n",
              "        displayQuickchartButton(document);\n",
              "      </script>\n",
              "      <style>\n",
              "    .colab-df-container {\n",
              "      display:flex;\n",
              "      flex-wrap:wrap;\n",
              "      gap: 12px;\n",
              "    }\n",
              "\n",
              "    .colab-df-convert {\n",
              "      background-color: #E8F0FE;\n",
              "      border: none;\n",
              "      border-radius: 50%;\n",
              "      cursor: pointer;\n",
              "      display: none;\n",
              "      fill: #1967D2;\n",
              "      height: 32px;\n",
              "      padding: 0 0 0 0;\n",
              "      width: 32px;\n",
              "    }\n",
              "\n",
              "    .colab-df-convert:hover {\n",
              "      background-color: #E2EBFA;\n",
              "      box-shadow: 0px 1px 2px rgba(60, 64, 67, 0.3), 0px 1px 3px 1px rgba(60, 64, 67, 0.15);\n",
              "      fill: #174EA6;\n",
              "    }\n",
              "\n",
              "    [theme=dark] .colab-df-convert {\n",
              "      background-color: #3B4455;\n",
              "      fill: #D2E3FC;\n",
              "    }\n",
              "\n",
              "    [theme=dark] .colab-df-convert:hover {\n",
              "      background-color: #434B5C;\n",
              "      box-shadow: 0px 1px 3px 1px rgba(0, 0, 0, 0.15);\n",
              "      filter: drop-shadow(0px 1px 2px rgba(0, 0, 0, 0.3));\n",
              "      fill: #FFFFFF;\n",
              "    }\n",
              "  </style>\n",
              "\n",
              "      <script>\n",
              "        const buttonEl =\n",
              "          document.querySelector('#df-d6f53971-5ed4-4626-b23f-ee914d40c122 button.colab-df-convert');\n",
              "        buttonEl.style.display =\n",
              "          google.colab.kernel.accessAllowed ? 'block' : 'none';\n",
              "\n",
              "        async function convertToInteractive(key) {\n",
              "          const element = document.querySelector('#df-d6f53971-5ed4-4626-b23f-ee914d40c122');\n",
              "          const dataTable =\n",
              "            await google.colab.kernel.invokeFunction('convertToInteractive',\n",
              "                                                     [key], {});\n",
              "          if (!dataTable) return;\n",
              "\n",
              "          const docLinkHtml = 'Like what you see? Visit the ' +\n",
              "            '<a target=\"_blank\" href=https://colab.research.google.com/notebooks/data_table.ipynb>data table notebook</a>'\n",
              "            + ' to learn more about interactive tables.';\n",
              "          element.innerHTML = '';\n",
              "          dataTable['output_type'] = 'display_data';\n",
              "          await google.colab.output.renderOutput(dataTable, element);\n",
              "          const docLink = document.createElement('div');\n",
              "          docLink.innerHTML = docLinkHtml;\n",
              "          element.appendChild(docLink);\n",
              "        }\n",
              "      </script>\n",
              "    </div>\n",
              "  </div>\n"
            ]
          },
          "metadata": {},
          "execution_count": 122
        }
      ]
    },
    {
      "cell_type": "code",
      "source": [
        "df.info()"
      ],
      "metadata": {
        "id": "709N5v2wU060",
        "outputId": "16384edc-39bc-4ca7-a66a-e24fef4c6763",
        "colab": {
          "base_uri": "https://localhost:8080/"
        }
      },
      "execution_count": 123,
      "outputs": [
        {
          "output_type": "stream",
          "name": "stdout",
          "text": [
            "<class 'pandas.core.frame.DataFrame'>\n",
            "RangeIndex: 672 entries, 0 to 671\n",
            "Data columns (total 15 columns):\n",
            " #   Column             Non-Null Count  Dtype  \n",
            "---  ------             --------------  -----  \n",
            " 0   index              672 non-null    int64  \n",
            " 1   Job Title          672 non-null    object \n",
            " 2   Salary Estimate    672 non-null    object \n",
            " 3   Job Description    672 non-null    object \n",
            " 4   Rating             672 non-null    float64\n",
            " 5   Company Name       672 non-null    object \n",
            " 6   Location           672 non-null    object \n",
            " 7   Headquarters       672 non-null    object \n",
            " 8   Size               672 non-null    object \n",
            " 9   Founded            672 non-null    int64  \n",
            " 10  Type of ownership  672 non-null    object \n",
            " 11  Industry           672 non-null    object \n",
            " 12  Sector             672 non-null    object \n",
            " 13  Revenue            672 non-null    object \n",
            " 14  Competitors        672 non-null    object \n",
            "dtypes: float64(1), int64(2), object(12)\n",
            "memory usage: 78.9+ KB\n"
          ]
        }
      ]
    },
    {
      "cell_type": "code",
      "source": [
        "df.columns"
      ],
      "metadata": {
        "id": "r_PR43CwWFRc",
        "outputId": "92144e38-65c3-4775-d7f3-b536af35642a",
        "colab": {
          "base_uri": "https://localhost:8080/"
        }
      },
      "execution_count": 124,
      "outputs": [
        {
          "output_type": "execute_result",
          "data": {
            "text/plain": [
              "Index(['index', 'Job Title', 'Salary Estimate', 'Job Description', 'Rating',\n",
              "       'Company Name', 'Location', 'Headquarters', 'Size', 'Founded',\n",
              "       'Type of ownership', 'Industry', 'Sector', 'Revenue', 'Competitors'],\n",
              "      dtype='object')"
            ]
          },
          "metadata": {},
          "execution_count": 124
        }
      ]
    },
    {
      "cell_type": "code",
      "source": [
        "##remove index column from dataset"
      ],
      "metadata": {
        "id": "n4ip1a_BWfkb"
      },
      "execution_count": 125,
      "outputs": []
    },
    {
      "cell_type": "code",
      "source": [
        "df.drop(['index'],axis=1,inplace=True)"
      ],
      "metadata": {
        "id": "C4heoQLtW_Cs"
      },
      "execution_count": 126,
      "outputs": []
    },
    {
      "cell_type": "code",
      "source": [
        "df"
      ],
      "metadata": {
        "id": "uVgzKL5wXgdI",
        "outputId": "d3b62d3c-2161-4b7a-ade4-7e2085e6e1fb",
        "colab": {
          "base_uri": "https://localhost:8080/",
          "height": 884
        }
      },
      "execution_count": 127,
      "outputs": [
        {
          "output_type": "execute_result",
          "data": {
            "text/plain": [
              "             Job Title               Salary Estimate  \\\n",
              "0    Sr Data Scientist  $137K-$171K (Glassdoor est.)   \n",
              "1       Data Scientist  $137K-$171K (Glassdoor est.)   \n",
              "2       Data Scientist  $137K-$171K (Glassdoor est.)   \n",
              "3       Data Scientist  $137K-$171K (Glassdoor est.)   \n",
              "4       Data Scientist  $137K-$171K (Glassdoor est.)   \n",
              "..                 ...                           ...   \n",
              "667     Data Scientist  $105K-$167K (Glassdoor est.)   \n",
              "668     Data Scientist  $105K-$167K (Glassdoor est.)   \n",
              "669     Data Scientist  $105K-$167K (Glassdoor est.)   \n",
              "670     Data Scientist  $105K-$167K (Glassdoor est.)   \n",
              "671     Data Scientist  $105K-$167K (Glassdoor est.)   \n",
              "\n",
              "                                       Job Description  Rating  \\\n",
              "0    Description\\n\\nThe Senior Data Scientist is re...     3.1   \n",
              "1    Secure our Nation, Ignite your Future\\n\\nJoin ...     4.2   \n",
              "2    Overview\\n\\n\\nAnalysis Group is one of the lar...     3.8   \n",
              "3    JOB DESCRIPTION:\\n\\nDo you have a passion for ...     3.5   \n",
              "4    Data Scientist\\nAffinity Solutions / Marketing...     2.9   \n",
              "..                                                 ...     ...   \n",
              "667  Summary\\n\\nWe’re looking for a data scientist ...     3.6   \n",
              "668  Job Description\\nBecome a thought leader withi...    -1.0   \n",
              "669  Join a thriving company that is changing the w...    -1.0   \n",
              "670  100 Remote Opportunity As an AINLP Data Scient...     5.0   \n",
              "671  Description\\n\\nThe Data Scientist will be part...     2.7   \n",
              "\n",
              "                  Company Name           Location            Headquarters  \\\n",
              "0             Healthfirst\\n3.1       New York, NY            New York, NY   \n",
              "1                 ManTech\\n4.2      Chantilly, VA             Herndon, VA   \n",
              "2          Analysis Group\\n3.8         Boston, MA              Boston, MA   \n",
              "3                 INFICON\\n3.5         Newton, MA  Bad Ragaz, Switzerland   \n",
              "4      Affinity Solutions\\n2.9       New York, NY            New York, NY   \n",
              "..                         ...                ...                     ...   \n",
              "667              TRANZACT\\n3.6       Fort Lee, NJ            Fort Lee, NJ   \n",
              "668                       JKGT  San Francisco, CA                      -1   \n",
              "669                 AccessHope      Irwindale, CA                      -1   \n",
              "670  ChaTeck Incorporated\\n5.0  San Francisco, CA         Santa Clara, CA   \n",
              "671         1-800-Flowers\\n2.7       New York, NY         Carle Place, NY   \n",
              "\n",
              "                        Size  Founded        Type of ownership  \\\n",
              "0     1001 to 5000 employees     1993   Nonprofit Organization   \n",
              "1    5001 to 10000 employees     1968         Company - Public   \n",
              "2     1001 to 5000 employees     1981  Private Practice / Firm   \n",
              "3      501 to 1000 employees     2000         Company - Public   \n",
              "4        51 to 200 employees     1998        Company - Private   \n",
              "..                       ...      ...                      ...   \n",
              "667   1001 to 5000 employees     1989        Company - Private   \n",
              "668                       -1       -1                       -1   \n",
              "669                       -1       -1                       -1   \n",
              "670        1 to 50 employees       -1        Company - Private   \n",
              "671   1001 to 5000 employees     1976         Company - Public   \n",
              "\n",
              "                                  Industry             Sector  \\\n",
              "0                       Insurance Carriers          Insurance   \n",
              "1                   Research & Development  Business Services   \n",
              "2                               Consulting  Business Services   \n",
              "3    Electrical & Electronic Manufacturing      Manufacturing   \n",
              "4                  Advertising & Marketing  Business Services   \n",
              "..                                     ...                ...   \n",
              "667                Advertising & Marketing  Business Services   \n",
              "668                                     -1                 -1   \n",
              "669                                     -1                 -1   \n",
              "670                Advertising & Marketing  Business Services   \n",
              "671                              Wholesale  Business Services   \n",
              "\n",
              "                        Revenue  \\\n",
              "0      Unknown / Non-Applicable   \n",
              "1        $1 to $2 billion (USD)   \n",
              "2    $100 to $500 million (USD)   \n",
              "3    $100 to $500 million (USD)   \n",
              "4      Unknown / Non-Applicable   \n",
              "..                          ...   \n",
              "667    Unknown / Non-Applicable   \n",
              "668                          -1   \n",
              "669                          -1   \n",
              "670      $1 to $5 million (USD)   \n",
              "671      $1 to $2 billion (USD)   \n",
              "\n",
              "                                           Competitors  \n",
              "0              EmblemHealth, UnitedHealth Group, Aetna  \n",
              "1                                                   -1  \n",
              "2                                                   -1  \n",
              "3    MKS Instruments, Pfeiffer Vacuum, Agilent Tech...  \n",
              "4                 Commerce Signals, Cardlytics, Yodlee  \n",
              "..                                                 ...  \n",
              "667                                                 -1  \n",
              "668                                                 -1  \n",
              "669                                                 -1  \n",
              "670                                                 -1  \n",
              "671                                                 -1  \n",
              "\n",
              "[672 rows x 14 columns]"
            ],
            "text/html": [
              "\n",
              "\n",
              "  <div id=\"df-f485af39-da2f-4df7-a5b5-6cc5e75feb53\">\n",
              "    <div class=\"colab-df-container\">\n",
              "      <div>\n",
              "<style scoped>\n",
              "    .dataframe tbody tr th:only-of-type {\n",
              "        vertical-align: middle;\n",
              "    }\n",
              "\n",
              "    .dataframe tbody tr th {\n",
              "        vertical-align: top;\n",
              "    }\n",
              "\n",
              "    .dataframe thead th {\n",
              "        text-align: right;\n",
              "    }\n",
              "</style>\n",
              "<table border=\"1\" class=\"dataframe\">\n",
              "  <thead>\n",
              "    <tr style=\"text-align: right;\">\n",
              "      <th></th>\n",
              "      <th>Job Title</th>\n",
              "      <th>Salary Estimate</th>\n",
              "      <th>Job Description</th>\n",
              "      <th>Rating</th>\n",
              "      <th>Company Name</th>\n",
              "      <th>Location</th>\n",
              "      <th>Headquarters</th>\n",
              "      <th>Size</th>\n",
              "      <th>Founded</th>\n",
              "      <th>Type of ownership</th>\n",
              "      <th>Industry</th>\n",
              "      <th>Sector</th>\n",
              "      <th>Revenue</th>\n",
              "      <th>Competitors</th>\n",
              "    </tr>\n",
              "  </thead>\n",
              "  <tbody>\n",
              "    <tr>\n",
              "      <th>0</th>\n",
              "      <td>Sr Data Scientist</td>\n",
              "      <td>$137K-$171K (Glassdoor est.)</td>\n",
              "      <td>Description\\n\\nThe Senior Data Scientist is re...</td>\n",
              "      <td>3.1</td>\n",
              "      <td>Healthfirst\\n3.1</td>\n",
              "      <td>New York, NY</td>\n",
              "      <td>New York, NY</td>\n",
              "      <td>1001 to 5000 employees</td>\n",
              "      <td>1993</td>\n",
              "      <td>Nonprofit Organization</td>\n",
              "      <td>Insurance Carriers</td>\n",
              "      <td>Insurance</td>\n",
              "      <td>Unknown / Non-Applicable</td>\n",
              "      <td>EmblemHealth, UnitedHealth Group, Aetna</td>\n",
              "    </tr>\n",
              "    <tr>\n",
              "      <th>1</th>\n",
              "      <td>Data Scientist</td>\n",
              "      <td>$137K-$171K (Glassdoor est.)</td>\n",
              "      <td>Secure our Nation, Ignite your Future\\n\\nJoin ...</td>\n",
              "      <td>4.2</td>\n",
              "      <td>ManTech\\n4.2</td>\n",
              "      <td>Chantilly, VA</td>\n",
              "      <td>Herndon, VA</td>\n",
              "      <td>5001 to 10000 employees</td>\n",
              "      <td>1968</td>\n",
              "      <td>Company - Public</td>\n",
              "      <td>Research &amp; Development</td>\n",
              "      <td>Business Services</td>\n",
              "      <td>$1 to $2 billion (USD)</td>\n",
              "      <td>-1</td>\n",
              "    </tr>\n",
              "    <tr>\n",
              "      <th>2</th>\n",
              "      <td>Data Scientist</td>\n",
              "      <td>$137K-$171K (Glassdoor est.)</td>\n",
              "      <td>Overview\\n\\n\\nAnalysis Group is one of the lar...</td>\n",
              "      <td>3.8</td>\n",
              "      <td>Analysis Group\\n3.8</td>\n",
              "      <td>Boston, MA</td>\n",
              "      <td>Boston, MA</td>\n",
              "      <td>1001 to 5000 employees</td>\n",
              "      <td>1981</td>\n",
              "      <td>Private Practice / Firm</td>\n",
              "      <td>Consulting</td>\n",
              "      <td>Business Services</td>\n",
              "      <td>$100 to $500 million (USD)</td>\n",
              "      <td>-1</td>\n",
              "    </tr>\n",
              "    <tr>\n",
              "      <th>3</th>\n",
              "      <td>Data Scientist</td>\n",
              "      <td>$137K-$171K (Glassdoor est.)</td>\n",
              "      <td>JOB DESCRIPTION:\\n\\nDo you have a passion for ...</td>\n",
              "      <td>3.5</td>\n",
              "      <td>INFICON\\n3.5</td>\n",
              "      <td>Newton, MA</td>\n",
              "      <td>Bad Ragaz, Switzerland</td>\n",
              "      <td>501 to 1000 employees</td>\n",
              "      <td>2000</td>\n",
              "      <td>Company - Public</td>\n",
              "      <td>Electrical &amp; Electronic Manufacturing</td>\n",
              "      <td>Manufacturing</td>\n",
              "      <td>$100 to $500 million (USD)</td>\n",
              "      <td>MKS Instruments, Pfeiffer Vacuum, Agilent Tech...</td>\n",
              "    </tr>\n",
              "    <tr>\n",
              "      <th>4</th>\n",
              "      <td>Data Scientist</td>\n",
              "      <td>$137K-$171K (Glassdoor est.)</td>\n",
              "      <td>Data Scientist\\nAffinity Solutions / Marketing...</td>\n",
              "      <td>2.9</td>\n",
              "      <td>Affinity Solutions\\n2.9</td>\n",
              "      <td>New York, NY</td>\n",
              "      <td>New York, NY</td>\n",
              "      <td>51 to 200 employees</td>\n",
              "      <td>1998</td>\n",
              "      <td>Company - Private</td>\n",
              "      <td>Advertising &amp; Marketing</td>\n",
              "      <td>Business Services</td>\n",
              "      <td>Unknown / Non-Applicable</td>\n",
              "      <td>Commerce Signals, Cardlytics, Yodlee</td>\n",
              "    </tr>\n",
              "    <tr>\n",
              "      <th>...</th>\n",
              "      <td>...</td>\n",
              "      <td>...</td>\n",
              "      <td>...</td>\n",
              "      <td>...</td>\n",
              "      <td>...</td>\n",
              "      <td>...</td>\n",
              "      <td>...</td>\n",
              "      <td>...</td>\n",
              "      <td>...</td>\n",
              "      <td>...</td>\n",
              "      <td>...</td>\n",
              "      <td>...</td>\n",
              "      <td>...</td>\n",
              "      <td>...</td>\n",
              "    </tr>\n",
              "    <tr>\n",
              "      <th>667</th>\n",
              "      <td>Data Scientist</td>\n",
              "      <td>$105K-$167K (Glassdoor est.)</td>\n",
              "      <td>Summary\\n\\nWe’re looking for a data scientist ...</td>\n",
              "      <td>3.6</td>\n",
              "      <td>TRANZACT\\n3.6</td>\n",
              "      <td>Fort Lee, NJ</td>\n",
              "      <td>Fort Lee, NJ</td>\n",
              "      <td>1001 to 5000 employees</td>\n",
              "      <td>1989</td>\n",
              "      <td>Company - Private</td>\n",
              "      <td>Advertising &amp; Marketing</td>\n",
              "      <td>Business Services</td>\n",
              "      <td>Unknown / Non-Applicable</td>\n",
              "      <td>-1</td>\n",
              "    </tr>\n",
              "    <tr>\n",
              "      <th>668</th>\n",
              "      <td>Data Scientist</td>\n",
              "      <td>$105K-$167K (Glassdoor est.)</td>\n",
              "      <td>Job Description\\nBecome a thought leader withi...</td>\n",
              "      <td>-1.0</td>\n",
              "      <td>JKGT</td>\n",
              "      <td>San Francisco, CA</td>\n",
              "      <td>-1</td>\n",
              "      <td>-1</td>\n",
              "      <td>-1</td>\n",
              "      <td>-1</td>\n",
              "      <td>-1</td>\n",
              "      <td>-1</td>\n",
              "      <td>-1</td>\n",
              "      <td>-1</td>\n",
              "    </tr>\n",
              "    <tr>\n",
              "      <th>669</th>\n",
              "      <td>Data Scientist</td>\n",
              "      <td>$105K-$167K (Glassdoor est.)</td>\n",
              "      <td>Join a thriving company that is changing the w...</td>\n",
              "      <td>-1.0</td>\n",
              "      <td>AccessHope</td>\n",
              "      <td>Irwindale, CA</td>\n",
              "      <td>-1</td>\n",
              "      <td>-1</td>\n",
              "      <td>-1</td>\n",
              "      <td>-1</td>\n",
              "      <td>-1</td>\n",
              "      <td>-1</td>\n",
              "      <td>-1</td>\n",
              "      <td>-1</td>\n",
              "    </tr>\n",
              "    <tr>\n",
              "      <th>670</th>\n",
              "      <td>Data Scientist</td>\n",
              "      <td>$105K-$167K (Glassdoor est.)</td>\n",
              "      <td>100 Remote Opportunity As an AINLP Data Scient...</td>\n",
              "      <td>5.0</td>\n",
              "      <td>ChaTeck Incorporated\\n5.0</td>\n",
              "      <td>San Francisco, CA</td>\n",
              "      <td>Santa Clara, CA</td>\n",
              "      <td>1 to 50 employees</td>\n",
              "      <td>-1</td>\n",
              "      <td>Company - Private</td>\n",
              "      <td>Advertising &amp; Marketing</td>\n",
              "      <td>Business Services</td>\n",
              "      <td>$1 to $5 million (USD)</td>\n",
              "      <td>-1</td>\n",
              "    </tr>\n",
              "    <tr>\n",
              "      <th>671</th>\n",
              "      <td>Data Scientist</td>\n",
              "      <td>$105K-$167K (Glassdoor est.)</td>\n",
              "      <td>Description\\n\\nThe Data Scientist will be part...</td>\n",
              "      <td>2.7</td>\n",
              "      <td>1-800-Flowers\\n2.7</td>\n",
              "      <td>New York, NY</td>\n",
              "      <td>Carle Place, NY</td>\n",
              "      <td>1001 to 5000 employees</td>\n",
              "      <td>1976</td>\n",
              "      <td>Company - Public</td>\n",
              "      <td>Wholesale</td>\n",
              "      <td>Business Services</td>\n",
              "      <td>$1 to $2 billion (USD)</td>\n",
              "      <td>-1</td>\n",
              "    </tr>\n",
              "  </tbody>\n",
              "</table>\n",
              "<p>672 rows × 14 columns</p>\n",
              "</div>\n",
              "      <button class=\"colab-df-convert\" onclick=\"convertToInteractive('df-f485af39-da2f-4df7-a5b5-6cc5e75feb53')\"\n",
              "              title=\"Convert this dataframe to an interactive table.\"\n",
              "              style=\"display:none;\">\n",
              "\n",
              "  <svg xmlns=\"http://www.w3.org/2000/svg\" height=\"24px\"viewBox=\"0 0 24 24\"\n",
              "       width=\"24px\">\n",
              "    <path d=\"M0 0h24v24H0V0z\" fill=\"none\"/>\n",
              "    <path d=\"M18.56 5.44l.94 2.06.94-2.06 2.06-.94-2.06-.94-.94-2.06-.94 2.06-2.06.94zm-11 1L8.5 8.5l.94-2.06 2.06-.94-2.06-.94L8.5 2.5l-.94 2.06-2.06.94zm10 10l.94 2.06.94-2.06 2.06-.94-2.06-.94-.94-2.06-.94 2.06-2.06.94z\"/><path d=\"M17.41 7.96l-1.37-1.37c-.4-.4-.92-.59-1.43-.59-.52 0-1.04.2-1.43.59L10.3 9.45l-7.72 7.72c-.78.78-.78 2.05 0 2.83L4 21.41c.39.39.9.59 1.41.59.51 0 1.02-.2 1.41-.59l7.78-7.78 2.81-2.81c.8-.78.8-2.07 0-2.86zM5.41 20L4 18.59l7.72-7.72 1.47 1.35L5.41 20z\"/>\n",
              "  </svg>\n",
              "      </button>\n",
              "\n",
              "\n",
              "\n",
              "    <div id=\"df-5e671044-cafd-4700-8064-9cf692ed9317\">\n",
              "      <button class=\"colab-df-quickchart\" onclick=\"quickchart('df-5e671044-cafd-4700-8064-9cf692ed9317')\"\n",
              "              title=\"Suggest charts.\"\n",
              "              style=\"display:none;\">\n",
              "\n",
              "<svg xmlns=\"http://www.w3.org/2000/svg\" height=\"24px\"viewBox=\"0 0 24 24\"\n",
              "     width=\"24px\">\n",
              "    <g>\n",
              "        <path d=\"M19 3H5c-1.1 0-2 .9-2 2v14c0 1.1.9 2 2 2h14c1.1 0 2-.9 2-2V5c0-1.1-.9-2-2-2zM9 17H7v-7h2v7zm4 0h-2V7h2v10zm4 0h-2v-4h2v4z\"/>\n",
              "    </g>\n",
              "</svg>\n",
              "      </button>\n",
              "    </div>\n",
              "\n",
              "<style>\n",
              "  .colab-df-quickchart {\n",
              "    background-color: #E8F0FE;\n",
              "    border: none;\n",
              "    border-radius: 50%;\n",
              "    cursor: pointer;\n",
              "    display: none;\n",
              "    fill: #1967D2;\n",
              "    height: 32px;\n",
              "    padding: 0 0 0 0;\n",
              "    width: 32px;\n",
              "  }\n",
              "\n",
              "  .colab-df-quickchart:hover {\n",
              "    background-color: #E2EBFA;\n",
              "    box-shadow: 0px 1px 2px rgba(60, 64, 67, 0.3), 0px 1px 3px 1px rgba(60, 64, 67, 0.15);\n",
              "    fill: #174EA6;\n",
              "  }\n",
              "\n",
              "  [theme=dark] .colab-df-quickchart {\n",
              "    background-color: #3B4455;\n",
              "    fill: #D2E3FC;\n",
              "  }\n",
              "\n",
              "  [theme=dark] .colab-df-quickchart:hover {\n",
              "    background-color: #434B5C;\n",
              "    box-shadow: 0px 1px 3px 1px rgba(0, 0, 0, 0.15);\n",
              "    filter: drop-shadow(0px 1px 2px rgba(0, 0, 0, 0.3));\n",
              "    fill: #FFFFFF;\n",
              "  }\n",
              "</style>\n",
              "\n",
              "    <script>\n",
              "      async function quickchart(key) {\n",
              "        const containerElement = document.querySelector('#' + key);\n",
              "        const charts = await google.colab.kernel.invokeFunction(\n",
              "            'suggestCharts', [key], {});\n",
              "      }\n",
              "    </script>\n",
              "\n",
              "      <script>\n",
              "\n",
              "function displayQuickchartButton(domScope) {\n",
              "  let quickchartButtonEl =\n",
              "    domScope.querySelector('#df-5e671044-cafd-4700-8064-9cf692ed9317 button.colab-df-quickchart');\n",
              "  quickchartButtonEl.style.display =\n",
              "    google.colab.kernel.accessAllowed ? 'block' : 'none';\n",
              "}\n",
              "\n",
              "        displayQuickchartButton(document);\n",
              "      </script>\n",
              "      <style>\n",
              "    .colab-df-container {\n",
              "      display:flex;\n",
              "      flex-wrap:wrap;\n",
              "      gap: 12px;\n",
              "    }\n",
              "\n",
              "    .colab-df-convert {\n",
              "      background-color: #E8F0FE;\n",
              "      border: none;\n",
              "      border-radius: 50%;\n",
              "      cursor: pointer;\n",
              "      display: none;\n",
              "      fill: #1967D2;\n",
              "      height: 32px;\n",
              "      padding: 0 0 0 0;\n",
              "      width: 32px;\n",
              "    }\n",
              "\n",
              "    .colab-df-convert:hover {\n",
              "      background-color: #E2EBFA;\n",
              "      box-shadow: 0px 1px 2px rgba(60, 64, 67, 0.3), 0px 1px 3px 1px rgba(60, 64, 67, 0.15);\n",
              "      fill: #174EA6;\n",
              "    }\n",
              "\n",
              "    [theme=dark] .colab-df-convert {\n",
              "      background-color: #3B4455;\n",
              "      fill: #D2E3FC;\n",
              "    }\n",
              "\n",
              "    [theme=dark] .colab-df-convert:hover {\n",
              "      background-color: #434B5C;\n",
              "      box-shadow: 0px 1px 3px 1px rgba(0, 0, 0, 0.15);\n",
              "      filter: drop-shadow(0px 1px 2px rgba(0, 0, 0, 0.3));\n",
              "      fill: #FFFFFF;\n",
              "    }\n",
              "  </style>\n",
              "\n",
              "      <script>\n",
              "        const buttonEl =\n",
              "          document.querySelector('#df-f485af39-da2f-4df7-a5b5-6cc5e75feb53 button.colab-df-convert');\n",
              "        buttonEl.style.display =\n",
              "          google.colab.kernel.accessAllowed ? 'block' : 'none';\n",
              "\n",
              "        async function convertToInteractive(key) {\n",
              "          const element = document.querySelector('#df-f485af39-da2f-4df7-a5b5-6cc5e75feb53');\n",
              "          const dataTable =\n",
              "            await google.colab.kernel.invokeFunction('convertToInteractive',\n",
              "                                                     [key], {});\n",
              "          if (!dataTable) return;\n",
              "\n",
              "          const docLinkHtml = 'Like what you see? Visit the ' +\n",
              "            '<a target=\"_blank\" href=https://colab.research.google.com/notebooks/data_table.ipynb>data table notebook</a>'\n",
              "            + ' to learn more about interactive tables.';\n",
              "          element.innerHTML = '';\n",
              "          dataTable['output_type'] = 'display_data';\n",
              "          await google.colab.output.renderOutput(dataTable, element);\n",
              "          const docLink = document.createElement('div');\n",
              "          docLink.innerHTML = docLinkHtml;\n",
              "          element.appendChild(docLink);\n",
              "        }\n",
              "      </script>\n",
              "    </div>\n",
              "  </div>\n"
            ]
          },
          "metadata": {},
          "execution_count": 127
        }
      ]
    },
    {
      "cell_type": "code",
      "source": [
        "# clean the salary column"
      ],
      "metadata": {
        "id": "7wVZ3fhPYNJ-"
      },
      "execution_count": 128,
      "outputs": []
    },
    {
      "cell_type": "code",
      "source": [
        "df['Salary Estimate'].values[0]"
      ],
      "metadata": {
        "id": "r3XshsdXeJKT",
        "outputId": "e55995c7-3161-4f2d-eb57-43fe857e2bd3",
        "colab": {
          "base_uri": "https://localhost:8080/",
          "height": 36
        }
      },
      "execution_count": 129,
      "outputs": [
        {
          "output_type": "execute_result",
          "data": {
            "text/plain": [
              "'$137K-$171K (Glassdoor est.)'"
            ],
            "application/vnd.google.colaboratory.intrinsic+json": {
              "type": "string"
            }
          },
          "metadata": {},
          "execution_count": 129
        }
      ]
    },
    {
      "cell_type": "code",
      "source": [
        "def cleanSalaryColumn(salary):\n",
        "  val=['0','1','2','3','4','5','6','7','8','9','-']\n",
        "  final_value=\"\"\n",
        "  for s in salary:\n",
        "    if s in val:\n",
        "      final_value=final_value+s\n",
        "  return final_value"
      ],
      "metadata": {
        "id": "im2BAZcYeVbY"
      },
      "execution_count": 130,
      "outputs": []
    },
    {
      "cell_type": "code",
      "source": [
        "cleanSalaryColumn(df['Salary Estimate'].values[0])"
      ],
      "metadata": {
        "id": "ZgBO0S5afXGY",
        "outputId": "727af77d-8161-4639-a6a0-3442b3f1ae70",
        "colab": {
          "base_uri": "https://localhost:8080/",
          "height": 36
        }
      },
      "execution_count": 131,
      "outputs": [
        {
          "output_type": "execute_result",
          "data": {
            "text/plain": [
              "'137-171'"
            ],
            "application/vnd.google.colaboratory.intrinsic+json": {
              "type": "string"
            }
          },
          "metadata": {},
          "execution_count": 131
        }
      ]
    },
    {
      "cell_type": "code",
      "source": [
        "df['Salary Estimate']=df['Salary Estimate'].apply(cleanSalaryColumn)"
      ],
      "metadata": {
        "id": "gXh8Gc8AfbP3"
      },
      "execution_count": 132,
      "outputs": []
    },
    {
      "cell_type": "code",
      "source": [
        "df.tail()"
      ],
      "metadata": {
        "id": "7sVxELS0f1br",
        "outputId": "caa18b75-eeb1-43b1-c493-4fa0e1bd9f8b",
        "colab": {
          "base_uri": "https://localhost:8080/",
          "height": 406
        }
      },
      "execution_count": 133,
      "outputs": [
        {
          "output_type": "execute_result",
          "data": {
            "text/plain": [
              "          Job Title Salary Estimate  \\\n",
              "667  Data Scientist         105-167   \n",
              "668  Data Scientist         105-167   \n",
              "669  Data Scientist         105-167   \n",
              "670  Data Scientist         105-167   \n",
              "671  Data Scientist         105-167   \n",
              "\n",
              "                                       Job Description  Rating  \\\n",
              "667  Summary\\n\\nWe’re looking for a data scientist ...     3.6   \n",
              "668  Job Description\\nBecome a thought leader withi...    -1.0   \n",
              "669  Join a thriving company that is changing the w...    -1.0   \n",
              "670  100 Remote Opportunity As an AINLP Data Scient...     5.0   \n",
              "671  Description\\n\\nThe Data Scientist will be part...     2.7   \n",
              "\n",
              "                  Company Name           Location     Headquarters  \\\n",
              "667              TRANZACT\\n3.6       Fort Lee, NJ     Fort Lee, NJ   \n",
              "668                       JKGT  San Francisco, CA               -1   \n",
              "669                 AccessHope      Irwindale, CA               -1   \n",
              "670  ChaTeck Incorporated\\n5.0  San Francisco, CA  Santa Clara, CA   \n",
              "671         1-800-Flowers\\n2.7       New York, NY  Carle Place, NY   \n",
              "\n",
              "                       Size  Founded  Type of ownership  \\\n",
              "667  1001 to 5000 employees     1989  Company - Private   \n",
              "668                      -1       -1                 -1   \n",
              "669                      -1       -1                 -1   \n",
              "670       1 to 50 employees       -1  Company - Private   \n",
              "671  1001 to 5000 employees     1976   Company - Public   \n",
              "\n",
              "                    Industry             Sector                   Revenue  \\\n",
              "667  Advertising & Marketing  Business Services  Unknown / Non-Applicable   \n",
              "668                       -1                 -1                        -1   \n",
              "669                       -1                 -1                        -1   \n",
              "670  Advertising & Marketing  Business Services    $1 to $5 million (USD)   \n",
              "671                Wholesale  Business Services    $1 to $2 billion (USD)   \n",
              "\n",
              "    Competitors  \n",
              "667          -1  \n",
              "668          -1  \n",
              "669          -1  \n",
              "670          -1  \n",
              "671          -1  "
            ],
            "text/html": [
              "\n",
              "\n",
              "  <div id=\"df-347d2f44-0077-41c1-8fb7-b033b1b83f04\">\n",
              "    <div class=\"colab-df-container\">\n",
              "      <div>\n",
              "<style scoped>\n",
              "    .dataframe tbody tr th:only-of-type {\n",
              "        vertical-align: middle;\n",
              "    }\n",
              "\n",
              "    .dataframe tbody tr th {\n",
              "        vertical-align: top;\n",
              "    }\n",
              "\n",
              "    .dataframe thead th {\n",
              "        text-align: right;\n",
              "    }\n",
              "</style>\n",
              "<table border=\"1\" class=\"dataframe\">\n",
              "  <thead>\n",
              "    <tr style=\"text-align: right;\">\n",
              "      <th></th>\n",
              "      <th>Job Title</th>\n",
              "      <th>Salary Estimate</th>\n",
              "      <th>Job Description</th>\n",
              "      <th>Rating</th>\n",
              "      <th>Company Name</th>\n",
              "      <th>Location</th>\n",
              "      <th>Headquarters</th>\n",
              "      <th>Size</th>\n",
              "      <th>Founded</th>\n",
              "      <th>Type of ownership</th>\n",
              "      <th>Industry</th>\n",
              "      <th>Sector</th>\n",
              "      <th>Revenue</th>\n",
              "      <th>Competitors</th>\n",
              "    </tr>\n",
              "  </thead>\n",
              "  <tbody>\n",
              "    <tr>\n",
              "      <th>667</th>\n",
              "      <td>Data Scientist</td>\n",
              "      <td>105-167</td>\n",
              "      <td>Summary\\n\\nWe’re looking for a data scientist ...</td>\n",
              "      <td>3.6</td>\n",
              "      <td>TRANZACT\\n3.6</td>\n",
              "      <td>Fort Lee, NJ</td>\n",
              "      <td>Fort Lee, NJ</td>\n",
              "      <td>1001 to 5000 employees</td>\n",
              "      <td>1989</td>\n",
              "      <td>Company - Private</td>\n",
              "      <td>Advertising &amp; Marketing</td>\n",
              "      <td>Business Services</td>\n",
              "      <td>Unknown / Non-Applicable</td>\n",
              "      <td>-1</td>\n",
              "    </tr>\n",
              "    <tr>\n",
              "      <th>668</th>\n",
              "      <td>Data Scientist</td>\n",
              "      <td>105-167</td>\n",
              "      <td>Job Description\\nBecome a thought leader withi...</td>\n",
              "      <td>-1.0</td>\n",
              "      <td>JKGT</td>\n",
              "      <td>San Francisco, CA</td>\n",
              "      <td>-1</td>\n",
              "      <td>-1</td>\n",
              "      <td>-1</td>\n",
              "      <td>-1</td>\n",
              "      <td>-1</td>\n",
              "      <td>-1</td>\n",
              "      <td>-1</td>\n",
              "      <td>-1</td>\n",
              "    </tr>\n",
              "    <tr>\n",
              "      <th>669</th>\n",
              "      <td>Data Scientist</td>\n",
              "      <td>105-167</td>\n",
              "      <td>Join a thriving company that is changing the w...</td>\n",
              "      <td>-1.0</td>\n",
              "      <td>AccessHope</td>\n",
              "      <td>Irwindale, CA</td>\n",
              "      <td>-1</td>\n",
              "      <td>-1</td>\n",
              "      <td>-1</td>\n",
              "      <td>-1</td>\n",
              "      <td>-1</td>\n",
              "      <td>-1</td>\n",
              "      <td>-1</td>\n",
              "      <td>-1</td>\n",
              "    </tr>\n",
              "    <tr>\n",
              "      <th>670</th>\n",
              "      <td>Data Scientist</td>\n",
              "      <td>105-167</td>\n",
              "      <td>100 Remote Opportunity As an AINLP Data Scient...</td>\n",
              "      <td>5.0</td>\n",
              "      <td>ChaTeck Incorporated\\n5.0</td>\n",
              "      <td>San Francisco, CA</td>\n",
              "      <td>Santa Clara, CA</td>\n",
              "      <td>1 to 50 employees</td>\n",
              "      <td>-1</td>\n",
              "      <td>Company - Private</td>\n",
              "      <td>Advertising &amp; Marketing</td>\n",
              "      <td>Business Services</td>\n",
              "      <td>$1 to $5 million (USD)</td>\n",
              "      <td>-1</td>\n",
              "    </tr>\n",
              "    <tr>\n",
              "      <th>671</th>\n",
              "      <td>Data Scientist</td>\n",
              "      <td>105-167</td>\n",
              "      <td>Description\\n\\nThe Data Scientist will be part...</td>\n",
              "      <td>2.7</td>\n",
              "      <td>1-800-Flowers\\n2.7</td>\n",
              "      <td>New York, NY</td>\n",
              "      <td>Carle Place, NY</td>\n",
              "      <td>1001 to 5000 employees</td>\n",
              "      <td>1976</td>\n",
              "      <td>Company - Public</td>\n",
              "      <td>Wholesale</td>\n",
              "      <td>Business Services</td>\n",
              "      <td>$1 to $2 billion (USD)</td>\n",
              "      <td>-1</td>\n",
              "    </tr>\n",
              "  </tbody>\n",
              "</table>\n",
              "</div>\n",
              "      <button class=\"colab-df-convert\" onclick=\"convertToInteractive('df-347d2f44-0077-41c1-8fb7-b033b1b83f04')\"\n",
              "              title=\"Convert this dataframe to an interactive table.\"\n",
              "              style=\"display:none;\">\n",
              "\n",
              "  <svg xmlns=\"http://www.w3.org/2000/svg\" height=\"24px\"viewBox=\"0 0 24 24\"\n",
              "       width=\"24px\">\n",
              "    <path d=\"M0 0h24v24H0V0z\" fill=\"none\"/>\n",
              "    <path d=\"M18.56 5.44l.94 2.06.94-2.06 2.06-.94-2.06-.94-.94-2.06-.94 2.06-2.06.94zm-11 1L8.5 8.5l.94-2.06 2.06-.94-2.06-.94L8.5 2.5l-.94 2.06-2.06.94zm10 10l.94 2.06.94-2.06 2.06-.94-2.06-.94-.94-2.06-.94 2.06-2.06.94z\"/><path d=\"M17.41 7.96l-1.37-1.37c-.4-.4-.92-.59-1.43-.59-.52 0-1.04.2-1.43.59L10.3 9.45l-7.72 7.72c-.78.78-.78 2.05 0 2.83L4 21.41c.39.39.9.59 1.41.59.51 0 1.02-.2 1.41-.59l7.78-7.78 2.81-2.81c.8-.78.8-2.07 0-2.86zM5.41 20L4 18.59l7.72-7.72 1.47 1.35L5.41 20z\"/>\n",
              "  </svg>\n",
              "      </button>\n",
              "\n",
              "\n",
              "\n",
              "    <div id=\"df-2b467fbd-f718-4fe2-9752-aaa0dd907ac6\">\n",
              "      <button class=\"colab-df-quickchart\" onclick=\"quickchart('df-2b467fbd-f718-4fe2-9752-aaa0dd907ac6')\"\n",
              "              title=\"Suggest charts.\"\n",
              "              style=\"display:none;\">\n",
              "\n",
              "<svg xmlns=\"http://www.w3.org/2000/svg\" height=\"24px\"viewBox=\"0 0 24 24\"\n",
              "     width=\"24px\">\n",
              "    <g>\n",
              "        <path d=\"M19 3H5c-1.1 0-2 .9-2 2v14c0 1.1.9 2 2 2h14c1.1 0 2-.9 2-2V5c0-1.1-.9-2-2-2zM9 17H7v-7h2v7zm4 0h-2V7h2v10zm4 0h-2v-4h2v4z\"/>\n",
              "    </g>\n",
              "</svg>\n",
              "      </button>\n",
              "    </div>\n",
              "\n",
              "<style>\n",
              "  .colab-df-quickchart {\n",
              "    background-color: #E8F0FE;\n",
              "    border: none;\n",
              "    border-radius: 50%;\n",
              "    cursor: pointer;\n",
              "    display: none;\n",
              "    fill: #1967D2;\n",
              "    height: 32px;\n",
              "    padding: 0 0 0 0;\n",
              "    width: 32px;\n",
              "  }\n",
              "\n",
              "  .colab-df-quickchart:hover {\n",
              "    background-color: #E2EBFA;\n",
              "    box-shadow: 0px 1px 2px rgba(60, 64, 67, 0.3), 0px 1px 3px 1px rgba(60, 64, 67, 0.15);\n",
              "    fill: #174EA6;\n",
              "  }\n",
              "\n",
              "  [theme=dark] .colab-df-quickchart {\n",
              "    background-color: #3B4455;\n",
              "    fill: #D2E3FC;\n",
              "  }\n",
              "\n",
              "  [theme=dark] .colab-df-quickchart:hover {\n",
              "    background-color: #434B5C;\n",
              "    box-shadow: 0px 1px 3px 1px rgba(0, 0, 0, 0.15);\n",
              "    filter: drop-shadow(0px 1px 2px rgba(0, 0, 0, 0.3));\n",
              "    fill: #FFFFFF;\n",
              "  }\n",
              "</style>\n",
              "\n",
              "    <script>\n",
              "      async function quickchart(key) {\n",
              "        const containerElement = document.querySelector('#' + key);\n",
              "        const charts = await google.colab.kernel.invokeFunction(\n",
              "            'suggestCharts', [key], {});\n",
              "      }\n",
              "    </script>\n",
              "\n",
              "      <script>\n",
              "\n",
              "function displayQuickchartButton(domScope) {\n",
              "  let quickchartButtonEl =\n",
              "    domScope.querySelector('#df-2b467fbd-f718-4fe2-9752-aaa0dd907ac6 button.colab-df-quickchart');\n",
              "  quickchartButtonEl.style.display =\n",
              "    google.colab.kernel.accessAllowed ? 'block' : 'none';\n",
              "}\n",
              "\n",
              "        displayQuickchartButton(document);\n",
              "      </script>\n",
              "      <style>\n",
              "    .colab-df-container {\n",
              "      display:flex;\n",
              "      flex-wrap:wrap;\n",
              "      gap: 12px;\n",
              "    }\n",
              "\n",
              "    .colab-df-convert {\n",
              "      background-color: #E8F0FE;\n",
              "      border: none;\n",
              "      border-radius: 50%;\n",
              "      cursor: pointer;\n",
              "      display: none;\n",
              "      fill: #1967D2;\n",
              "      height: 32px;\n",
              "      padding: 0 0 0 0;\n",
              "      width: 32px;\n",
              "    }\n",
              "\n",
              "    .colab-df-convert:hover {\n",
              "      background-color: #E2EBFA;\n",
              "      box-shadow: 0px 1px 2px rgba(60, 64, 67, 0.3), 0px 1px 3px 1px rgba(60, 64, 67, 0.15);\n",
              "      fill: #174EA6;\n",
              "    }\n",
              "\n",
              "    [theme=dark] .colab-df-convert {\n",
              "      background-color: #3B4455;\n",
              "      fill: #D2E3FC;\n",
              "    }\n",
              "\n",
              "    [theme=dark] .colab-df-convert:hover {\n",
              "      background-color: #434B5C;\n",
              "      box-shadow: 0px 1px 3px 1px rgba(0, 0, 0, 0.15);\n",
              "      filter: drop-shadow(0px 1px 2px rgba(0, 0, 0, 0.3));\n",
              "      fill: #FFFFFF;\n",
              "    }\n",
              "  </style>\n",
              "\n",
              "      <script>\n",
              "        const buttonEl =\n",
              "          document.querySelector('#df-347d2f44-0077-41c1-8fb7-b033b1b83f04 button.colab-df-convert');\n",
              "        buttonEl.style.display =\n",
              "          google.colab.kernel.accessAllowed ? 'block' : 'none';\n",
              "\n",
              "        async function convertToInteractive(key) {\n",
              "          const element = document.querySelector('#df-347d2f44-0077-41c1-8fb7-b033b1b83f04');\n",
              "          const dataTable =\n",
              "            await google.colab.kernel.invokeFunction('convertToInteractive',\n",
              "                                                     [key], {});\n",
              "          if (!dataTable) return;\n",
              "\n",
              "          const docLinkHtml = 'Like what you see? Visit the ' +\n",
              "            '<a target=\"_blank\" href=https://colab.research.google.com/notebooks/data_table.ipynb>data table notebook</a>'\n",
              "            + ' to learn more about interactive tables.';\n",
              "          element.innerHTML = '';\n",
              "          dataTable['output_type'] = 'display_data';\n",
              "          await google.colab.output.renderOutput(dataTable, element);\n",
              "          const docLink = document.createElement('div');\n",
              "          docLink.innerHTML = docLinkHtml;\n",
              "          element.appendChild(docLink);\n",
              "        }\n",
              "      </script>\n",
              "    </div>\n",
              "  </div>\n"
            ]
          },
          "metadata": {},
          "execution_count": 133
        }
      ]
    },
    {
      "cell_type": "code",
      "source": [
        "# create min,max,avg slary based on salary estimation"
      ],
      "metadata": {
        "id": "B1ZMbFI-f7Ym"
      },
      "execution_count": 134,
      "outputs": []
    },
    {
      "cell_type": "code",
      "source": [
        "def findMinSalary(salary):\n",
        "  return int(salary.split('-')[0])\n",
        "\n",
        "def findMaxSalary(salary):\n",
        "   return int(salary.split('-')[1])\n"
      ],
      "metadata": {
        "id": "ZDfqPBS8j0sK"
      },
      "execution_count": 135,
      "outputs": []
    },
    {
      "cell_type": "code",
      "source": [
        "df['Min_salary']=df['Salary Estimate'].apply(findMinSalary)\n",
        "df['Max_salary']=df['Salary Estimate'].apply(findMaxSalary)"
      ],
      "metadata": {
        "id": "YUEfxMCWkfzs"
      },
      "execution_count": 136,
      "outputs": []
    },
    {
      "cell_type": "code",
      "source": [
        "df['Min_salary']"
      ],
      "metadata": {
        "id": "GxknoXgtkppM",
        "outputId": "35370aec-daca-4581-f368-5821dd9be967",
        "colab": {
          "base_uri": "https://localhost:8080/"
        }
      },
      "execution_count": 137,
      "outputs": [
        {
          "output_type": "execute_result",
          "data": {
            "text/plain": [
              "0      137\n",
              "1      137\n",
              "2      137\n",
              "3      137\n",
              "4      137\n",
              "      ... \n",
              "667    105\n",
              "668    105\n",
              "669    105\n",
              "670    105\n",
              "671    105\n",
              "Name: Min_salary, Length: 672, dtype: int64"
            ]
          },
          "metadata": {},
          "execution_count": 137
        }
      ]
    },
    {
      "cell_type": "code",
      "source": [
        "def findAvgSalary(salary):\n",
        "  return int((int(salary.split('-')[0])+int(salary.split('-')[1]))*0.5)"
      ],
      "metadata": {
        "id": "XkfAYQh6kxCG"
      },
      "execution_count": 138,
      "outputs": []
    },
    {
      "cell_type": "code",
      "source": [
        "df['Avg_salary']=df['Salary Estimate'].apply(findAvgSalary)"
      ],
      "metadata": {
        "id": "uI5aYmjmmPuI"
      },
      "execution_count": 139,
      "outputs": []
    },
    {
      "cell_type": "code",
      "source": [
        "df['Avg_salary'][215]"
      ],
      "metadata": {
        "id": "ryCrAoAOmWKB",
        "outputId": "96844948-cd41-45f1-fe89-c3452dddf5ad",
        "colab": {
          "base_uri": "https://localhost:8080/"
        }
      },
      "execution_count": 141,
      "outputs": [
        {
          "output_type": "execute_result",
          "data": {
            "text/plain": [
              "92"
            ]
          },
          "metadata": {},
          "execution_count": 141
        }
      ]
    },
    {
      "cell_type": "code",
      "source": [
        "df['Job Description'][3]"
      ],
      "metadata": {
        "id": "XQgqmG-gmnWH",
        "outputId": "311ba86d-e8a8-429e-a54f-e3aba8b0588d",
        "colab": {
          "base_uri": "https://localhost:8080/",
          "height": 123
        }
      },
      "execution_count": 143,
      "outputs": [
        {
          "output_type": "execute_result",
          "data": {
            "text/plain": [
              "\"JOB DESCRIPTION:\\n\\nDo you have a passion for Data and Machine Learning? Do you dream of working with customers on their most forward-looking AI initiatives? Does the challenge of developing modern machine learning solutions to solve real-world manufacturing problems exciting to you?\\n\\nWe develop software for monitoring semiconductor manufacturing process and are looking to leverage the latest technologies to address our customer's needs. You will be part of a team that investigates and builds solutions based all the data available in factories, ranging from time series data, to post manufacturing data, to production logs. You will be working side by side with application developers and customers on real world problems with actual manufacturing data.\\n\\nJOB FUNCTION:\\n\\nBasic and applied research in statistical machine learning, deep learning, and data science as well as signal and information processing to advance the state of the art in time series analysis of semiconductor manufacturing data.\\n\\nResponsibilities:\\nPerform data analysis, data pre-processing, and feature engineering in support of advanced machine learning algorithm development. Incorporate physical and operational insights/constraints into statistical models to achieve a high degree of robustness.\\nPrototype algorithms for proof of concept, validation, and software implementation.\\nSupport performance evaluations and the transition of algorithms into existing fault detection and classification systems.\\nConvey the results of scientific research to sponsors and the scientific community through briefings, conferences and peer-reviewed publications.\\nOther related functions as assigned.\\n\\nREQUIRED QUALIFICATIONS:\\nBachelor's degree in computer science or chemical engineering or related technical field.\\nDemonstrated ability in machine learning/artificial intelligence (ML/AI) development and/or scientific modelling and data analysis.\\nDemonstrated ability with python/MATLAB or similar abstract language. Experience with both traditional ML and modern deep learning approaches.\\nExperience with agile development practices and Git version control.\\nExperience with one or more of the DNN frameworks like TensorFlow, PyTorch, Chainer.\\nExperience with SQL, Graph stores, or NoSQL stores.\\nApplicant must have a dynamic skill set, be willing to work with new technologies, be highly organized and capable of planning and coordinating multiple tasks. The position will require attention to detail, effective problem solving skills and excellent judgment. Ability to work independently with sensitive and confidential information, maintain a professional demeanor, work as a team member without daily supervision.\\n\\nCOMPENSATION & BENEFITS:\\n\\nCompensation will be commensurate with experience including a competitive base salary, bonus opportunity, competitive benefits package, and relocation assistance.\\n\\nINFICON, is committed to ensuring that our online application process provides an equal opportunity to all job seekers that apply without regard to race, religion, ethnicity, national origin, citizenship, gender, age, protected veteran status, disability status, genetic information, sexual orientation, or any other protected characteristic. A notice describing Federal equal employment opportunity laws is available here and here to reaffirm this commitment.\\n\\nPI120660357\""
            ],
            "application/vnd.google.colaboratory.intrinsic+json": {
              "type": "string"
            }
          },
          "metadata": {},
          "execution_count": 143
        }
      ]
    },
    {
      "cell_type": "code",
      "source": [
        "# duplicate values drop"
      ],
      "metadata": {
        "id": "wDWPWK8UpmX5"
      },
      "execution_count": 144,
      "outputs": []
    },
    {
      "cell_type": "code",
      "source": [
        "df.duplicated()"
      ],
      "metadata": {
        "id": "1gz1hPDlq_SV",
        "outputId": "e2a4bb56-0ad9-4cc7-f6fc-dce3a669c3db",
        "colab": {
          "base_uri": "https://localhost:8080/"
        }
      },
      "execution_count": 149,
      "outputs": [
        {
          "output_type": "execute_result",
          "data": {
            "text/plain": [
              "0      False\n",
              "1      False\n",
              "2      False\n",
              "3      False\n",
              "4      False\n",
              "       ...  \n",
              "667    False\n",
              "668    False\n",
              "669    False\n",
              "670    False\n",
              "671    False\n",
              "Length: 672, dtype: bool"
            ]
          },
          "metadata": {},
          "execution_count": 149
        }
      ]
    },
    {
      "cell_type": "code",
      "source": [
        "df=df.drop_duplicates()"
      ],
      "metadata": {
        "id": "clv1DUnPrB6L"
      },
      "execution_count": 151,
      "outputs": []
    },
    {
      "cell_type": "code",
      "source": [
        "any(df.duplicated())"
      ],
      "metadata": {
        "id": "_OXw1eXUsMAO",
        "outputId": "f4ffaa7c-0d49-4a30-fe18-b8437f318f9e",
        "colab": {
          "base_uri": "https://localhost:8080/"
        }
      },
      "execution_count": 153,
      "outputs": [
        {
          "output_type": "execute_result",
          "data": {
            "text/plain": [
              "False"
            ]
          },
          "metadata": {},
          "execution_count": 153
        }
      ]
    },
    {
      "cell_type": "code",
      "source": [],
      "metadata": {
        "id": "EVYv7stjsVkp"
      },
      "execution_count": null,
      "outputs": []
    }
  ]
}